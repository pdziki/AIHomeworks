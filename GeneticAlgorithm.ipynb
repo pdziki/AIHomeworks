{
 "cells": [
  {
   "cell_type": "code",
   "execution_count": 1,
   "metadata": {},
   "outputs": [],
   "source": [
    "from pprint import pprint"
   ]
  },
  {
   "cell_type": "markdown",
   "metadata": {},
   "source": [
    "## Local Search - Genetic Algorithm\n",
    "\n",
    "For this assignment we're going to use the Genetic Algorithm to find the solution to a shifted Sphere Function in 10 dimensions, $x$, where the range of $x_i$ in each dimension is (-5.12 to 5.12). Here a \"solution\" means the vector $x$ that minimizes the function. The Sphere Function is:\n",
    "\n",
    "$$f(x)=\\sum x^2_i$$\n",
    "\n",
    "We are going to shift it over 0.5 in every dimension:\n",
    "\n",
    "$$f(x) = \\sum (x_i - 0.5)^2$$\n",
    "\n",
    "where $n = 10$.\n",
    "\n",
    "As this *is* a minimization problem you'll need to use the trick described in the lecture to turn the shifted Sphere Function into an appropriate fitness function (which is always looking for a *maximum* value).\n",
    "\n",
    "<div style=\"background: palegreen; margin:20px; padding: 20px;\">\n",
    "    <strong>Question</strong>\n",
    "    <p>\n",
    "<strong>This is not supposed to be a hard problem but an illustrative one.</strong> If the minimizing vector for the regular sphere function is all 0.0, what is the minimizing vector of values for this shifted shifted sphere function in 10 dimensions?\n",
    "</p>\n",
    "</div>"
   ]
  },
  {
   "cell_type": "markdown",
   "metadata": {},
   "source": [
    "the minimizing vector would be all 0.5."
   ]
  },
  {
   "cell_type": "markdown",
   "metadata": {},
   "source": [
    "GA can be used solve problems like these in multiple dimensions (the 2d version is shown):\n",
    "\n",
    "![Eggholder](http://www.sfu.ca/~ssurjano/egg.png)"
   ]
  },
  {
   "cell_type": "markdown",
   "metadata": {},
   "source": [
    "## Canonical (\"Binary\") Genetic Algorithm\n",
    "\n",
    "You are going to solve the problem two different ways. First, using the traditional (or \"Canonical\") Genetic Algorithm that encodes numeric values as binary strings (you don't have to represent them literally as strings but they are general lists or strings of only 0 or 1).\n",
    "\n",
    "There are many different ways to make this encoding. For this assignment, use a 10 bit binary encoding for each $x_i$. We can then *decode* each $x_i$ a to an integer value of 0 to 1024 and then *approximately* map that to (-5.12, 5.12) by subtracting 512 and dividing by 100. If the boundaries mattered for your problem, you would need to improve your encoding!\n",
    "\n",
    "All the GA operators (crossover, mutation) should be as described in the lecture and pseudocode.\n",
    "\n",
    "\n",
    "<div style=\"background: lemonchiffon; margin:20px; padding: 20px;\">\n",
    "    <strong>Important</strong>\n",
    "    <p>\n",
    "Please remember that there is a difference between the *genotype* and the *phenotype*. The Canonical GA operates on the *genotype* (the encoding) and does not respect the boundaries of the phenotype (the decoding). So, for example, do <strong>not</strong> use a List of Lists to represent an individual. It should be a <strong>single</strong> List of bits. How many bits depends on the encoding and the number of variables encoded. In general, crossover and mutation have no idea what those bits represent so boundaries between variables are not respected in any way.</p>\n",
    "    <p>Also remember...\n",
    "        <ul>\n",
    "            <li>Every individual is a complete solution all by itself. If the problem has 5 variables, the individual has 5 variables encoded in it.</li>\n",
    "            <li>A population is a collection of individuals, that is, potential solutions.</li>\n",
    "            <li>Population size and generations are somewhat fungible...you can have a \"smaller\" population and have it run more generations or vice versa but the substitution is not exact. Experiment</li>\n",
    "    </ul>\n",
    "</div>"
   ]
  },
  {
   "cell_type": "markdown",
   "metadata": {},
   "source": [
    "## Real Valued GA\n",
    "\n",
    "For the real valued GA, you can represent each $x_i$ as a float in the range (-5.12, 5.12) but you will need to create a new mutation operator that applies gaussian noise. Python's random number generator for the normal distribution is called `gauss` and is found in the random module:\n",
    "\n",
    "```\n",
    "from random import gauss, random\n",
    "```\n",
    "\n",
    "You may need to experiment a bit with the standard deviation of the noise but the mean will be 0.0."
   ]
  },
  {
   "cell_type": "markdown",
   "metadata": {},
   "source": [
    "## GA\n",
    "\n",
    "The GA has a lot of parameters: mutation rate, crossover rate, population size, dimensions (given for this problem), number of generations.  You can put all of those and your fitness function in a `Dict` in which case you need to implement:\n",
    "\n",
    "```python\n",
    "def binary_ga( parameters, debug=False):\n",
    "  pass\n",
    "```\n",
    "\n",
    "and\n",
    "\n",
    "```python\n",
    "def real_ga( parameters, debug=False):\n",
    "  pass\n",
    "```\n",
    "\n",
    "Remember that you need to transform the sphere function (minimization) into a legit fitness function (maximization). Since you also need the sphere function, I would suggest that your parameters Dict includes something like:\n",
    "\n",
    "```python\n",
    "parameters = {\n",
    "   \"f\": lambda xs: sphere( 0.5, xs),\n",
    "   \"minimization\": True\n",
    "   # put other parameters in here.\n",
    "}\n",
    "```\n",
    "\n",
    "and then have your code check for \"minimization\" and create an entry for \"fitness\" that is appropriate.\n",
    "\n",
    "Each algorithm may require different values for the parameters. You will need to find a good population size but it is often in the 100s. The number of generations required is also in the 100s. Not 10, not 5.\n",
    "\n",
    "The Genetic Algorithm itself will have the same basic structure in each case: create a population, evaluate it, select parents, apply crossover and mutation, repeat until the number of desired generations have been generated. The easiest way to accomplish this in \"Functional\" Python would be to use Higher Order Functions. If you do it this way, you'd have a `general_ga` that the functions above might call along with specialization functions. If you have no idea what I'm taking about...don't do it! It's not required.\n",
    "\n",
    "The Binary GA should return the following Dict:\n",
    "\n",
    "```\n",
    "{\n",
    "    \"genotype\": [0, 1, ....],\n",
    "    \"phenotype\": [0.59, 0.47, 0.5,....],\n",
    "    \"solution\": [0.59, 0.47, 0.5,....],\n",
    "    \"fitness\": 0.997,\n",
    "    \"f\": 0.001\n",
    "}\n",
    "```\n",
    "\n",
    "The values are representative. Yes, the solution is the same as phenotype in this case.\n",
    "\n",
    "The Real Valued GA should return a similar Dict except there is no \"phenotype\":\n",
    "```\n",
    "{\n",
    "    \"solution\": [0.59, 0.47, 0.5,....],\n",
    "    \"fitness\": 0.997,\n",
    "    \"f\": 0.001\n",
    "}\n",
    "```\n",
    "\n",
    "Since the phenotype and the genotype are the same, we don't need to show them separately.\n",
    "\n",
    "Use `pprint` on the returned value.\n",
    "\n",
    "**Additionally**, if the formal argument `debug` is set to true, you should print the current best individual of every N generations. Print out the same information as above plus the generation number. N should be about your generations/20 (so there are 20 debug outputs)."
   ]
  },
  {
   "cell_type": "code",
   "execution_count": 3,
   "metadata": {},
   "outputs": [],
   "source": [
    "def sphere( shift, xs):\n",
    "    return sum( [(x - shift)**2 for x in xs])"
   ]
  },
  {
   "cell_type": "code",
   "execution_count": 4,
   "metadata": {},
   "outputs": [
    {
     "data": {
      "text/plain": [
       "113.42720000000001"
      ]
     },
     "execution_count": 4,
     "metadata": {},
     "output_type": "execute_result"
    }
   ],
   "source": [
    "sphere( 0.5, [1.0, 2.0, -3.4, 5.0, -1.2, 3.23, 2.87, -4.23, 3.82, -4.61])"
   ]
  },
  {
   "cell_type": "markdown",
   "metadata": {},
   "source": [
    "-----\n",
    "\n",
    "Put your code in cells here (not all in one cell! One cell per function. Make additional cells (code and Markdown) as needed."
   ]
  },
  {
   "cell_type": "code",
   "execution_count": 533,
   "metadata": {},
   "outputs": [],
   "source": [
    "# helpers and implementation"
   ]
  },
  {
   "cell_type": "markdown",
   "metadata": {},
   "source": [
    "This function randomly generates an initial population of 10 individuals.  Each variable in each individual is randomly assigned a 10 bit binary number"
   ]
  },
  {
   "cell_type": "code",
   "execution_count": 630,
   "metadata": {},
   "outputs": [],
   "source": [
    "import random\n",
    "def generate_population():\n",
    "    initial_population = []\n",
    "    for i in range(10):\n",
    "        parent = ''\n",
    "        for i in range(10):\n",
    "            key1 = \"\" \n",
    "            for i in range(10):\n",
    "                temp = str(random.randint(0, 1)) \n",
    "                key1 += temp \n",
    "            parent+=key1\n",
    "        initial_population.append(parent)\n",
    "    return(initial_population) "
   ]
  },
  {
   "cell_type": "markdown",
   "metadata": {},
   "source": [
    "This function decodes a 10 bit binary number (or an individual xi variable), then subtracts 512 and divides by 100 for our desired sphere.  It is a helper function used in decode_parent_array, which decodes an entire individual."
   ]
  },
  {
   "cell_type": "code",
   "execution_count": 632,
   "metadata": {},
   "outputs": [],
   "source": [
    "def decode(xi):\n",
    "    decoded_xi = (int(xi, 2)-512)/100\n",
    "    return(decoded_xi)"
   ]
  },
  {
   "cell_type": "markdown",
   "metadata": {},
   "source": [
    "This function evaluates the fitness of each individual.  It looks at all 10 variables contained in each individual, and gets the difference between the current xi values, and the desired value of .5 for all xi."
   ]
  },
  {
   "cell_type": "code",
   "execution_count": 633,
   "metadata": {},
   "outputs": [],
   "source": [
    "def fitness(prospect):\n",
    "    sum_array = []\n",
    "    for numbers in prospect:\n",
    "        difference = (numbers-.5)**2\n",
    "        sum_array.append(difference)\n",
    "    Sum = sum(sum_array)\n",
    "    return Sum"
   ]
  },
  {
   "cell_type": "markdown",
   "metadata": {},
   "source": [
    "This function decodes an individual to 10 binary values.  Each individual is composed of 10 variables, each 10 bits.  Each of these 10 bit variables is converted to binary."
   ]
  },
  {
   "cell_type": "code",
   "execution_count": 634,
   "metadata": {},
   "outputs": [],
   "source": [
    "def decode_parent_array(parent_array):    \n",
    "    selected_parents = []\n",
    "    for parents in parent_array:\n",
    "        xi = ''\n",
    "        counter = 0\n",
    "        parent = []\n",
    "        for bits in parents:\n",
    "            xi+= bits\n",
    "            counter+=1\n",
    "            if counter == 10:\n",
    "                parent.append(decode(xi))\n",
    "                counter = 0\n",
    "                xi = ''\n",
    "        selected_parents.append(parent)  \n",
    "    return selected_parents"
   ]
  },
  {
   "cell_type": "markdown",
   "metadata": {},
   "source": [
    "This function selects which parents from the population it should breed.  It returns the two individuals with the best fitness score, which are then bred in the crossover function."
   ]
  },
  {
   "cell_type": "code",
   "execution_count": 635,
   "metadata": {},
   "outputs": [],
   "source": [
    "def selection(population, realGA):\n",
    "    sum_array = []\n",
    "    possible_parents = []    \n",
    "    if realGA == True:\n",
    "        possible_parents = population\n",
    "    else:\n",
    "        possible_parents = decode_parent_array(population) \n",
    "    for parents in possible_parents:\n",
    "        Sum = fitness(parents)\n",
    "        sum_array.append(Sum)\n",
    "    sorted_sums = sorted(sum_array)\n",
    "    counter = -1\n",
    "    breeding_parents = []\n",
    "    for i in sum_array:\n",
    "        counter+=1\n",
    "        if i == sorted_sums[0]:\n",
    "            breeding_parents.append(population[counter])\n",
    "            break\n",
    "    counter = -1\n",
    "    for j in sum_array:\n",
    "        counter+=1\n",
    "        if j == sorted_sums[1]:        \n",
    "            breeding_parents.append(population[counter])\n",
    "            break\n",
    "    return(breeding_parents)      "
   ]
  },
  {
   "cell_type": "markdown",
   "metadata": {},
   "source": [
    "This function breeds the 2 best individual parents selected from the population.  It selects the midpoint of each parent as a pivot point, and pairs the first half of the first parent with the second half of the second parent, and the second half of the first parent with the first half of the second parent"
   ]
  },
  {
   "cell_type": "code",
   "execution_count": 636,
   "metadata": {},
   "outputs": [],
   "source": [
    "#pick gene location at random\n",
    "def crossover(parents, mutation = False):\n",
    "    parent_0 = parents[0]\n",
    "    parent_1 = parents[1]\n",
    "    if mutation == True:\n",
    "        mutation_func(parent_0, parent_1)\n",
    "    crossover_point = (len(parent_1)/2)\n",
    "    crossover_point = int(crossover_point)\n",
    "    parent_0_son = parent_0[:crossover_point]\n",
    "    parent_0_daughter = parent_0[crossover_point:]\n",
    "    parent_1_son = parent_1[:crossover_point]\n",
    "    parent_1_daughter = parent_1[crossover_point:]\n",
    "    son = parent_0_son + parent_1_son\n",
    "    daughter = parent_0_daughter + parent_1_daughter\n",
    "    return son, daughter   "
   ]
  },
  {
   "cell_type": "markdown",
   "metadata": {},
   "source": [
    "This function brings all the previous functions together and runs on a population for 1000 generations.  It initially generates a random population, then picks the best parents, breeds them, and adds the child to the population.  It then continues doing so for 1000 generations."
   ]
  },
  {
   "cell_type": "code",
   "execution_count": 667,
   "metadata": {},
   "outputs": [],
   "source": [
    "def binary_ga(parameters, debug=False):      \n",
    "    pop = generate_population()\n",
    "    generations = 100\n",
    "    limit = 0\n",
    "    counter = 0\n",
    "    while limit < generations:\n",
    "        breeding_parents = selection(pop, False)\n",
    "        son, daughter = crossover(breeding_parents)\n",
    "        pop.append(son)\n",
    "        pop.append(daughter)\n",
    "        limit+=1\n",
    "        if debug == True:\n",
    "            counter +=1\n",
    "        if debug ==True and counter ==20:\n",
    "            a=0\n",
    "    breeders = selection(pop, False)\n",
    "    selected_parents = []\n",
    "    selected_parents_decoded = decode_parent_array(breeders)\n",
    "    return (\"genotype: \", breeders[0]), (\"phenotype: \", selected_parents_decoded[0]), (\"solution: \", selected_parents_decoded[0]), (\"f\", fitness(selected_parents_decoded[0]))"
   ]
  },
  {
   "cell_type": "markdown",
   "metadata": {},
   "source": [
    "The real ga algorithm requires non binary population, so I created a different function to create the initial population.  It creates 10 individuals, with 10 variables randomly selected in the range {-5.12, 5.12}"
   ]
  },
  {
   "cell_type": "code",
   "execution_count": 668,
   "metadata": {},
   "outputs": [],
   "source": [
    "def generate_population_realga():\n",
    "    initial_population = []\n",
    "    for i in range(10):\n",
    "        parent = []\n",
    "        for i in range(10):\n",
    "            key1 = random.uniform(-5.12, 5.12)\n",
    "            parent.append(key1)\n",
    "        initial_population.append(parent)\n",
    "    return(initial_population) "
   ]
  },
  {
   "cell_type": "markdown",
   "metadata": {},
   "source": [
    "In the real ga algorithm, we must apply a mutation to the parents.  Here, we apply gaussian noise to a random variable in each parent to slightly adjust their values."
   ]
  },
  {
   "cell_type": "code",
   "execution_count": 669,
   "metadata": {},
   "outputs": [],
   "source": [
    "from random import gauss\n",
    "def mutation_func(parent1, parent2):\n",
    "    value1 = gauss(-5.12, 5.12)\n",
    "    value2 = gauss(-5.12, 5.12)\n",
    "    index1 = random.randint(0,8)\n",
    "    index2 = random.randint(0,8)\n",
    "    parent1[index1] = value1\n",
    "    parent2[index2] = value2   "
   ]
  },
  {
   "cell_type": "markdown",
   "metadata": {},
   "source": [
    "The real ga algorithm is very similar to the binary ga algorithm, however, it doesn't have to worry about decoding binary values, though it does have to make mutations to parents.  "
   ]
  },
  {
   "cell_type": "code",
   "execution_count": 670,
   "metadata": {},
   "outputs": [],
   "source": [
    "def real_ga(parameters, debug=False):\n",
    "    pop = generate_population_realga()\n",
    "    generations = 100\n",
    "    limit = 0\n",
    "    counter = 0\n",
    "    while limit < generations:\n",
    "        breeding_parents = selection(pop, True)\n",
    "        son, daughter = crossover(breeding_parents, True)\n",
    "        pop.append(son)\n",
    "        pop.append(daughter)\n",
    "        limit+=1\n",
    "        if debug == True:\n",
    "            counter +=1\n",
    "        if debug ==True and counter ==20:\n",
    "            a=0           \n",
    "    breeders = selection(pop, True)\n",
    "    return (\"solution: \", breeders[0]) , (\"f\", fitness(breeders[0]))"
   ]
  },
  {
   "cell_type": "markdown",
   "metadata": {},
   "source": [
    "### Canonical GA"
   ]
  },
  {
   "cell_type": "code",
   "execution_count": 671,
   "metadata": {},
   "outputs": [
    {
     "name": "stdout",
     "output_type": "stream",
     "text": [
      "(('genotype: ',\n",
      "  '0110111111101000000001111110011000000000100001111001101111111010000000011111100110000000001000011110'),\n",
      " ('phenotype: ', [-0.65, 1.28, -0.07, 0.0, 0.3, -0.65, 1.28, -0.07, 0.0, 0.3]),\n",
      " ('solution: ', [-0.65, 1.28, -0.07, 0.0, 0.3, -0.65, 1.28, -0.07, 0.0, 0.3]),\n",
      " ('f', 5.0916))\n"
     ]
    }
   ],
   "source": [
    "parameters1 = {\n",
    "    \n",
    "}\n",
    "result1 = binary_ga(parameters1, debug=True)\n",
    "pprint(result1)"
   ]
  },
  {
   "cell_type": "markdown",
   "metadata": {},
   "source": [
    "### Real Valued GA"
   ]
  },
  {
   "cell_type": "code",
   "execution_count": 672,
   "metadata": {},
   "outputs": [
    {
     "name": "stdout",
     "output_type": "stream",
     "text": [
      "(('solution: ',\n",
      "  [-1.6068151151808832,\n",
      "   -0.2939646855085938,\n",
      "   -4.128369654436808,\n",
      "   -5.6698658383756575,\n",
      "   -0.2266256423358648,\n",
      "   0.396889574730686,\n",
      "   -0.2939646855085938,\n",
      "   1.959777904453774,\n",
      "   1.8198052434318486,\n",
      "   -0.2266256423358648]),\n",
      " ('f', 70.1279187138115))\n"
     ]
    }
   ],
   "source": [
    "parameters2 = {\n",
    "    \n",
    "}\n",
    "result2 = real_ga(parameters2, debug=True)\n",
    "pprint(result2)"
   ]
  }
 ],
 "metadata": {
  "kernelspec": {
   "display_name": "Python 3",
   "language": "python",
   "name": "python3"
  },
  "language_info": {
   "codemirror_mode": {
    "name": "ipython",
    "version": 3
   },
   "file_extension": ".py",
   "mimetype": "text/x-python",
   "name": "python",
   "nbconvert_exporter": "python",
   "pygments_lexer": "ipython3",
   "version": "3.7.4"
  },
  "toc": {
   "colors": {
    "hover_highlight": "#DAA520",
    "navigate_num": "#000000",
    "navigate_text": "#333333",
    "running_highlight": "#FF0000",
    "selected_highlight": "#FFD700",
    "sidebar_border": "#EEEEEE",
    "wrapper_background": "#FFFFFF"
   },
   "moveMenuLeft": true,
   "nav_menu": {
    "height": "120px",
    "width": "252px"
   },
   "navigate_menu": true,
   "number_sections": true,
   "sideBar": true,
   "threshold": 4,
   "toc_cell": false,
   "toc_section_display": "block",
   "toc_window_display": false,
   "widenNotebook": false
  }
 },
 "nbformat": 4,
 "nbformat_minor": 1
}
